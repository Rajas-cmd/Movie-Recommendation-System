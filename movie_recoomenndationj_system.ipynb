{
  "nbformat": 4,
  "nbformat_minor": 0,
  "metadata": {
    "colab": {
      "provenance": []
    },
    "kernelspec": {
      "name": "python3",
      "display_name": "Python 3"
    },
    "language_info": {
      "name": "python"
    }
  },
  "cells": [
    {
      "cell_type": "code",
      "execution_count": 2,
      "metadata": {
        "id": "FrAzfUqGP_To"
      },
      "outputs": [],
      "source": [
        "import pandas as pd\n",
        "import ast\n",
        "from sklearn.feature_extraction.text import CountVectorizer\n",
        "from sklearn.metrics.pairwise import cosine_similarity"
      ]
    },
    {
      "cell_type": "code",
      "source": [
        "# Load datasets\n",
        "movies = pd.read_csv('/content/tmdb_5000_movies.csv')\n",
        "credits = pd.read_csv('/content/tmdb_5000_credits.csv')\n",
        "\n",
        "# Merge datasets on the 'title' column\n",
        "movies = movies.merge(credits, on='title')"
      ],
      "metadata": {
        "id": "52LR8MwaQIeG"
      },
      "execution_count": 3,
      "outputs": []
    },
    {
      "cell_type": "code",
      "source": [
        "# Select features to be used\n",
        "movies = movies[['movie_id', 'title', 'overview', 'genres', 'keywords', 'cast', 'crew']]"
      ],
      "metadata": {
        "id": "j-PXhPKgQ5Fd"
      },
      "execution_count": 4,
      "outputs": []
    },
    {
      "cell_type": "code",
      "source": [
        "# Check for missing values\n",
        "movies.isnull().sum()\n",
        "\n",
        "# Drop rows with missing values\n",
        "movies.dropna(inplace=True)"
      ],
      "metadata": {
        "id": "kse02kPYRAvq"
      },
      "execution_count": 5,
      "outputs": []
    },
    {
      "cell_type": "code",
      "source": [
        "# Function to convert JSON-like strings to lists\n",
        "def convert(obj):\n",
        "    L = []\n",
        "    for i in ast.literal_eval(obj):\n",
        "        L.append(i['name'])\n",
        "    return L\n",
        "\n",
        "# Apply the function to relevant columns\n",
        "movies['genres'] = movies['genres'].apply(convert)\n",
        "movies['keywords'] = movies['keywords'].apply(convert)\n",
        "\n",
        "# Function to extract top 3 cast members\n",
        "def convert3(obj):\n",
        "    L = []\n",
        "    counter = 0\n",
        "    for i in ast.literal_eval(obj):\n",
        "        if counter != 3:\n",
        "            L.append(i['name'])\n",
        "            counter += 1\n",
        "        else:\n",
        "            break\n",
        "    return L\n",
        "\n",
        "movies['cast'] = movies['cast'].apply(convert3)\n",
        "\n",
        "# Function to extract director's name\n",
        "def fetch_director(obj):\n",
        "    L = []\n",
        "    for i in ast.literal_eval(obj):\n",
        "        if i['job'] == 'Director':\n",
        "            L.append(i['name'])\n",
        "            break\n",
        "    return L\n",
        "\n",
        "movies['crew'] = movies['crew'].apply(fetch_director)\n",
        "\n",
        "# Convert overview to list of words\n",
        "movies['overview'] = movies['overview'].apply(lambda x: x.split())\n",
        "\n",
        "# Combine all features into a single list\n",
        "movies['tags'] = movies['overview'] + movies['genres'] + movies['keywords'] + movies['cast'] + movies['crew']\n",
        "\n",
        "# Create a new DataFrame with necessary columns\n",
        "new_df = movies[['movie_id', 'title', 'tags']]"
      ],
      "metadata": {
        "id": "lanvvyoyRDFq"
      },
      "execution_count": 6,
      "outputs": []
    },
    {
      "cell_type": "code",
      "source": [
        "# Convert list of tags to string\n",
        "new_df['tags'] = new_df['tags'].apply(lambda x: \" \".join(x))\n",
        "\n",
        "# Convert all text to lowercase\n",
        "new_df['tags'] = new_df['tags'].apply(lambda x: x.lower())"
      ],
      "metadata": {
        "colab": {
          "base_uri": "https://localhost:8080/"
        },
        "id": "mXulNsgBRGPf",
        "outputId": "53562316-143f-45a2-8a00-9582483c833b"
      },
      "execution_count": 7,
      "outputs": [
        {
          "output_type": "stream",
          "name": "stderr",
          "text": [
            "<ipython-input-7-2c3ed4146aa4>:2: SettingWithCopyWarning: \n",
            "A value is trying to be set on a copy of a slice from a DataFrame.\n",
            "Try using .loc[row_indexer,col_indexer] = value instead\n",
            "\n",
            "See the caveats in the documentation: https://pandas.pydata.org/pandas-docs/stable/user_guide/indexing.html#returning-a-view-versus-a-copy\n",
            "  new_df['tags'] = new_df['tags'].apply(lambda x: \" \".join(x))\n",
            "<ipython-input-7-2c3ed4146aa4>:5: SettingWithCopyWarning: \n",
            "A value is trying to be set on a copy of a slice from a DataFrame.\n",
            "Try using .loc[row_indexer,col_indexer] = value instead\n",
            "\n",
            "See the caveats in the documentation: https://pandas.pydata.org/pandas-docs/stable/user_guide/indexing.html#returning-a-view-versus-a-copy\n",
            "  new_df['tags'] = new_df['tags'].apply(lambda x: x.lower())\n"
          ]
        }
      ]
    },
    {
      "cell_type": "code",
      "source": [
        "# Initialize CountVectorizer\n",
        "cv = CountVectorizer(max_features=5000, stop_words='english')\n",
        "\n",
        "# Fit and transform the tags\n",
        "vectors = cv.fit_transform(new_df['tags']).toarray()"
      ],
      "metadata": {
        "id": "xsUK-rn3RKb3"
      },
      "execution_count": 8,
      "outputs": []
    },
    {
      "cell_type": "code",
      "source": [
        "# Compute cosine similarity between vectors\n",
        "similarity = cosine_similarity(vectors)"
      ],
      "metadata": {
        "id": "xekyG6uZRQ1x"
      },
      "execution_count": 9,
      "outputs": []
    },
    {
      "cell_type": "code",
      "source": [
        "# Function to recommend movies based on similarity score\n",
        "def recommend(movie):\n",
        "    movie_index = new_df[new_df['title'] == movie].index[0]\n",
        "    distances = similarity[movie_index]\n",
        "    movie_list = sorted(list(enumerate(distances)), reverse=True, key=lambda x: x[1])[1:6]\n",
        "\n",
        "    for i in movie_list:\n",
        "        print(new_df.iloc[i[0]].title)"
      ],
      "metadata": {
        "id": "MjN6tnL-SIyI"
      },
      "execution_count": 10,
      "outputs": []
    },
    {
      "cell_type": "code",
      "source": [
        "# Example: Get recommendations for 'The Dark Knight Rises'\n",
        "recommend('Toy Story')"
      ],
      "metadata": {
        "colab": {
          "base_uri": "https://localhost:8080/"
        },
        "id": "VaiOzKiESNZU",
        "outputId": "4b599f0c-87dd-43af-d910-6c2e88ae4d11"
      },
      "execution_count": 12,
      "outputs": [
        {
          "output_type": "stream",
          "name": "stdout",
          "text": [
            "Toy Story 2\n",
            "Toy Story 3\n",
            "Small Soldiers\n",
            "Everything You Always Wanted to Know About Sex *But Were Afraid to Ask\n",
            "The 40 Year Old Virgin\n"
          ]
        }
      ]
    },
    {
      "cell_type": "code",
      "source": [],
      "metadata": {
        "id": "WVWIscaCSQyC"
      },
      "execution_count": null,
      "outputs": []
    }
  ]
}